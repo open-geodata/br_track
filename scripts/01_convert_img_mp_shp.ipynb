{
 "cells": [
  {
   "cell_type": "markdown",
   "metadata": {},
   "source": [
    "<br>\n",
    "\n",
    "# Introdução\n",
    "\n",
    "Transformando uma base de GPS em base vetorial [tracksource.org.br](http://tracksource.org.br)\n"
   ]
  },
  {
   "cell_type": "code",
   "execution_count": 1,
   "metadata": {},
   "outputs": [
    {
     "name": "stdout",
     "output_type": "stream",
     "text": [
      "Requirement already satisfied: traquitanas in c:\\users\\michel\\documents\\conda\\envs\\pablocarreira-lastest\\lib\\site-packages (1.0.55)\n",
      "Requirement already satisfied: setuptools>=58.2.0 in c:\\users\\michel\\documents\\conda\\envs\\pablocarreira-lastest\\lib\\site-packages (from traquitanas) (65.5.1)\n",
      "Requirement already satisfied: requests>=2.25.0 in c:\\users\\michel\\documents\\conda\\envs\\pablocarreira-lastest\\lib\\site-packages (from traquitanas) (2.28.1)\n",
      "Requirement already satisfied: pycep-correios in c:\\users\\michel\\documents\\conda\\envs\\pablocarreira-lastest\\lib\\site-packages (from traquitanas) (5.1.0)\n",
      "Requirement already satisfied: click>=8.0.0 in c:\\users\\michel\\documents\\conda\\envs\\pablocarreira-lastest\\lib\\site-packages (from traquitanas) (8.1.3)\n",
      "Requirement already satisfied: chardet>=4.0.0 in c:\\users\\michel\\documents\\conda\\envs\\pablocarreira-lastest\\lib\\site-packages (from traquitanas) (5.1.0)\n",
      "Requirement already satisfied: folium>=0.12.0 in c:\\users\\michel\\documents\\conda\\envs\\pablocarreira-lastest\\lib\\site-packages (from traquitanas) (0.13.0)\n",
      "Requirement already satisfied: tqdm>=4.50.0 in c:\\users\\michel\\documents\\conda\\envs\\pablocarreira-lastest\\lib\\site-packages (from traquitanas) (4.64.1)\n",
      "Requirement already satisfied: selenium>=4.4.0 in c:\\users\\michel\\documents\\conda\\envs\\pablocarreira-lastest\\lib\\site-packages (from traquitanas) (4.7.0)\n",
      "Requirement already satisfied: colorama in c:\\users\\michel\\documents\\conda\\envs\\pablocarreira-lastest\\lib\\site-packages (from click>=8.0.0->traquitanas) (0.4.6)\n",
      "Requirement already satisfied: branca>=0.3.0 in c:\\users\\michel\\documents\\conda\\envs\\pablocarreira-lastest\\lib\\site-packages (from folium>=0.12.0->traquitanas) (0.6.0)\n",
      "Requirement already satisfied: jinja2>=2.9 in c:\\users\\michel\\documents\\conda\\envs\\pablocarreira-lastest\\lib\\site-packages (from folium>=0.12.0->traquitanas) (3.1.2)\n",
      "Requirement already satisfied: numpy in c:\\users\\michel\\documents\\conda\\envs\\pablocarreira-lastest\\lib\\site-packages (from folium>=0.12.0->traquitanas) (1.23.5)\n",
      "Requirement already satisfied: idna<4,>=2.5 in c:\\users\\michel\\documents\\conda\\envs\\pablocarreira-lastest\\lib\\site-packages (from requests>=2.25.0->traquitanas) (3.4)\n",
      "Requirement already satisfied: charset-normalizer<3,>=2 in c:\\users\\michel\\documents\\conda\\envs\\pablocarreira-lastest\\lib\\site-packages (from requests>=2.25.0->traquitanas) (2.1.1)\n",
      "Requirement already satisfied: urllib3<1.27,>=1.21.1 in c:\\users\\michel\\documents\\conda\\envs\\pablocarreira-lastest\\lib\\site-packages (from requests>=2.25.0->traquitanas) (1.26.13)\n",
      "Requirement already satisfied: certifi>=2017.4.17 in c:\\users\\michel\\documents\\conda\\envs\\pablocarreira-lastest\\lib\\site-packages (from requests>=2.25.0->traquitanas) (2022.9.24)\n",
      "Requirement already satisfied: trio-websocket~=0.9 in c:\\users\\michel\\documents\\conda\\envs\\pablocarreira-lastest\\lib\\site-packages (from selenium>=4.4.0->traquitanas) (0.9.2)\n",
      "Requirement already satisfied: trio~=0.17 in c:\\users\\michel\\documents\\conda\\envs\\pablocarreira-lastest\\lib\\site-packages (from selenium>=4.4.0->traquitanas) (0.22.0)\n",
      "Requirement already satisfied: zeep>=2.0.0 in c:\\users\\michel\\documents\\conda\\envs\\pablocarreira-lastest\\lib\\site-packages (from pycep-correios->traquitanas) (4.2.1)\n",
      "Requirement already satisfied: MarkupSafe>=2.0 in c:\\users\\michel\\documents\\conda\\envs\\pablocarreira-lastest\\lib\\site-packages (from jinja2>=2.9->folium>=0.12.0->traquitanas) (2.1.1)\n",
      "Requirement already satisfied: cffi>=1.14 in c:\\users\\michel\\documents\\conda\\envs\\pablocarreira-lastest\\lib\\site-packages (from trio~=0.17->selenium>=4.4.0->traquitanas) (1.15.1)\n",
      "Requirement already satisfied: async-generator>=1.9 in c:\\users\\michel\\documents\\conda\\envs\\pablocarreira-lastest\\lib\\site-packages (from trio~=0.17->selenium>=4.4.0->traquitanas) (1.10)\n",
      "Requirement already satisfied: sortedcontainers in c:\\users\\michel\\documents\\conda\\envs\\pablocarreira-lastest\\lib\\site-packages (from trio~=0.17->selenium>=4.4.0->traquitanas) (2.4.0)\n",
      "Requirement already satisfied: exceptiongroup>=1.0.0rc9 in c:\\users\\michel\\documents\\conda\\envs\\pablocarreira-lastest\\lib\\site-packages (from trio~=0.17->selenium>=4.4.0->traquitanas) (1.0.4)\n",
      "Requirement already satisfied: attrs>=19.2.0 in c:\\users\\michel\\documents\\conda\\envs\\pablocarreira-lastest\\lib\\site-packages (from trio~=0.17->selenium>=4.4.0->traquitanas) (22.1.0)\n",
      "Requirement already satisfied: sniffio in c:\\users\\michel\\documents\\conda\\envs\\pablocarreira-lastest\\lib\\site-packages (from trio~=0.17->selenium>=4.4.0->traquitanas) (1.3.0)\n",
      "Requirement already satisfied: outcome in c:\\users\\michel\\documents\\conda\\envs\\pablocarreira-lastest\\lib\\site-packages (from trio~=0.17->selenium>=4.4.0->traquitanas) (1.2.0)\n",
      "Requirement already satisfied: wsproto>=0.14 in c:\\users\\michel\\documents\\conda\\envs\\pablocarreira-lastest\\lib\\site-packages (from trio-websocket~=0.9->selenium>=4.4.0->traquitanas) (1.2.0)\n",
      "Requirement already satisfied: PySocks!=1.5.7,<2.0,>=1.5.6 in c:\\users\\michel\\documents\\conda\\envs\\pablocarreira-lastest\\lib\\site-packages (from urllib3<1.27,>=1.21.1->requests>=2.25.0->traquitanas) (1.7.1)\n",
      "Requirement already satisfied: lxml>=4.6.0 in c:\\users\\michel\\documents\\conda\\envs\\pablocarreira-lastest\\lib\\site-packages (from zeep>=2.0.0->pycep-correios->traquitanas) (4.9.1)\n",
      "Requirement already satisfied: requests-toolbelt>=0.7.1 in c:\\users\\michel\\documents\\conda\\envs\\pablocarreira-lastest\\lib\\site-packages (from zeep>=2.0.0->pycep-correios->traquitanas) (0.10.1)\n",
      "Requirement already satisfied: platformdirs>=1.4.0 in c:\\users\\michel\\documents\\conda\\envs\\pablocarreira-lastest\\lib\\site-packages (from zeep>=2.0.0->pycep-correios->traquitanas) (2.5.2)\n",
      "Requirement already satisfied: requests-file>=1.5.1 in c:\\users\\michel\\documents\\conda\\envs\\pablocarreira-lastest\\lib\\site-packages (from zeep>=2.0.0->pycep-correios->traquitanas) (1.5.1)\n",
      "Requirement already satisfied: pytz in c:\\users\\michel\\documents\\conda\\envs\\pablocarreira-lastest\\lib\\site-packages (from zeep>=2.0.0->pycep-correios->traquitanas) (2022.6)\n",
      "Requirement already satisfied: isodate>=0.5.4 in c:\\users\\michel\\documents\\conda\\envs\\pablocarreira-lastest\\lib\\site-packages (from zeep>=2.0.0->pycep-correios->traquitanas) (0.6.1)\n",
      "Requirement already satisfied: pycparser in c:\\users\\michel\\documents\\conda\\envs\\pablocarreira-lastest\\lib\\site-packages (from cffi>=1.14->trio~=0.17->selenium>=4.4.0->traquitanas) (2.21)\n",
      "Requirement already satisfied: six in c:\\users\\michel\\documents\\conda\\envs\\pablocarreira-lastest\\lib\\site-packages (from isodate>=0.5.4->zeep>=2.0.0->pycep-correios->traquitanas) (1.16.0)\n",
      "Requirement already satisfied: h11<1,>=0.9.0 in c:\\users\\michel\\documents\\conda\\envs\\pablocarreira-lastest\\lib\\site-packages (from wsproto>=0.14->trio-websocket~=0.9->selenium>=4.4.0->traquitanas) (0.14.0)\n"
     ]
    }
   ],
   "source": [
    "!pip3 install traquitanas --upgrade\n"
   ]
  },
  {
   "cell_type": "code",
   "execution_count": null,
   "metadata": {},
   "outputs": [],
   "source": [
<<<<<<< HEAD
    "!pip3 install traquitanas --upgrade\n"
   ]
  },
  {
   "cell_type": "code",
   "execution_count": null,
   "metadata": {},
   "outputs": [],
   "source": [
=======
>>>>>>> fb0866577969d7425510a71a01243b29a3527dad
    "'https://www.tracksource.org.br/ftp/instaladores/TS-Brasil_v2211.exe'\n"
   ]
  },
  {
   "cell_type": "code",
   "execution_count": null,
   "metadata": {},
   "outputs": [],
   "source": [
    "import os\n",
    "import shutil\n",
    "import subprocess\n",
    "from subprocess import PIPE, STDOUT, Popen\n",
    "from traquitanas.files import utils\n"
   ]
  },
  {
   "cell_type": "markdown",
   "metadata": {},
   "source": [
    "<br>\n",
    "\n",
    "# Obtem arquivos _.img_\n",
    "\n",
    "Os arquivos com extensão _.img_ estão localizados em uma determinada pasta no meu PC.\n",
    "Com os comandos a seguir, faz-se uma cópia desses arquivos.\n"
   ]
  },
  {
   "cell_type": "code",
   "execution_count": null,
   "metadata": {},
   "outputs": [],
   "source": [
    "URL = 'https://www.tracksource.org.br/ftp/instaladores/TS-Brasil_v2107.exe'\n",
    "URL\n"
   ]
  },
  {
   "cell_type": "markdown",
   "metadata": {},
   "source": [
    "<br>\n",
    "\n",
    "Seleciona os arquivos que tenham extensão .img e tenham 12 caracteres.\n"
   ]
  },
  {
   "cell_type": "markdown",
   "metadata": {},
   "source": [
    "<br>\n",
    "\n",
    "# Copia arquivos _.img_\n"
   ]
  },
  {
   "cell_type": "code",
   "execution_count": null,
   "metadata": {},
   "outputs": [],
   "source": [
    "tks_path = 'C:\\Program Files (x86)\\Tracksource\\TS-Brasil'\n",
    "list_imgs = [i for i in os.listdir(tks_path) if i.endswith('.img')]\n",
    "list_imgs = [i for i in list_imgs if len(i) == 12]\n",
    "\n",
    "print(f'fff {len(list_imgs)}')\n"
   ]
  },
  {
   "cell_type": "code",
   "execution_count": null,
   "metadata": {},
   "outputs": [],
   "source": [
    "# Copia Arquivos .img\n",
    "print(f'Copia arquivos da pasta \"{tks_path}\" para a pasta \"{input}\"')\n",
    "\n",
    "for img in list_imgs:\n",
    "    # print(img)\n",
    "    shutil.copy2(tks_path / img, input)\n"
   ]
  },
  {
   "cell_type": "markdown",
   "metadata": {},
   "source": [
    "<br>\n",
    "\n",
    "# Converte arquivos _.img_ para _.mp_ (polish format)\n",
    "\n",
    "[_stackoverflow_: Executing a vbs file with arguments created by python](https://stackoverflow.com/questions/19112944/executing-a-vbs-file-with-arguments-created-by-python)\n"
   ]
  },
  {
   "cell_type": "code",
   "execution_count": null,
   "metadata": {},
   "outputs": [],
   "source": [
    "# Parâmetros\n",
    "app = os.path.join(os.getcwd(), 'apps', 'convert_img2mp.vbs')\n",
    "inp_dirut = os.path.join(os.getcwd(), 'data', 'img_files')\n",
    "ou_dirput = os.path.join(os.getcwd(), 'data', 'mp_files')\n",
    "log_file = os.path.join(os.getcwd(), 'docs', 'log_img2mp.txt')\n",
    "\n",
    "# Run\n",
    "output = subprocess.run(\n",
    "    ['cscript'input_dir, output_dir, ouput, log_file],\n",
    "    capture_output=True,\n",
    "    text=True\n",
    ")\n",
    "\n",
    "# Results\n",
    "print(output)\n",
    "print('-'*20, '\\n', output.stderr)\n",
    "print('-'*20, '\\n', output.stdout)"
   ]
  },
  {
   "cell_type": "markdown",
   "metadata": {},
   "source": [
    "<br>\n",
    "\n",
    "## Encoding do MP\n"
   ]
  },
  {
   "cell_type": "code",
   "execution_count": null,
   "metadata": {},
   "outputs": [],
   "source": [
    "utils.predict_encoding('data/mp_files/90000074.mp')\n"
   ]
  },
  {
   "cell_type": "markdown",
   "metadata": {},
   "source": [
    "<br>\n",
    "\n",
    "# Convert arquivos _.mp_ para _.shp_\n"
   ]
  },
  {
   "cell_type": "code",
   "execution_count": null,
   "metadata": {},
   "outputs": [],
   "source": [
    "# Path to script\n",
    "# os.chdir(r'y:\\open-geodata\\tracksource')\n",
    "orig_dir = os.getcwd()\n",
    "script = os.path.join(orig_dir, 'apps', 'convert_mp2shp.gms')\n",
    "\n",
    "print(orig_dir)\n",
    "print(script)\n",
    "\n",
    "gm_path = r'c:\\Program Files\\GlobalMapper18_64bit'\n",
    "os.chdir(gm_path)\n",
    "print(os.getcwd())\n",
    "\n",
    "# Avalia se leu o script\n",
    "with open(script) as f:\n",
    "    [print(line) for line in f.readlines()[0:1]]\n",
    "\n",
    "# Command\n",
    "cmd = f'global_mapper.exe \"{script}\"'\n",
    "print(cmd)\n",
    "\n",
    "try:\n",
    "    # Subprocess\n",
    "    output = subprocess.run(cmd, capture_output=True, text=True, shell=True)\n",
    "\n",
    "    # Results\n",
    "    print(output)\n",
    "    print('-' * 20, '\\n', output.stderr)\n",
    "    print('-' * 20, '\\n', output.stdout)\n",
    "\n",
    "except:\n",
    "    # Retorna para Inicial\n",
    "    os.chdir(orig_dir)\n",
    "    print(orig_dir)\n"
   ]
  },
  {
   "cell_type": "code",
   "execution_count": null,
   "metadata": {},
   "outputs": [],
   "source": [
    "utils.predict_encoding('data/shp_files/90000074_lines.shp')\n"
   ]
  },
  {
   "cell_type": "code",
   "execution_count": null,
   "metadata": {},
   "outputs": [],
   "source": []
  }
 ],
 "metadata": {
  "kernelspec": {
   "display_name": "pablocarreira-lastest",
   "language": "python",
   "name": "python3"
  },
  "language_info": {
   "codemirror_mode": {
    "name": "ipython",
    "version": 3
   },
   "file_extension": ".py",
   "mimetype": "text/x-python",
   "name": "python",
   "nbconvert_exporter": "python",
   "pygments_lexer": "ipython3",
   "version": "3.10.8"
  },
  "toc": {
   "base_numbering": 1,
   "nav_menu": {},
   "number_sections": true,
   "sideBar": true,
   "skip_h1_title": false,
   "title_cell": "Table of Contents",
   "title_sidebar": "Contents",
   "toc_cell": false,
   "toc_position": {},
   "toc_section_display": true,
   "toc_window_display": false
  },
  "vscode": {
   "interpreter": {
    "hash": "687569cb6e4397037c9d383e6d97c177d3952104239309167bc1c3493c92ca14"
   }
  }
 },
 "nbformat": 4,
 "nbformat_minor": 4
}
