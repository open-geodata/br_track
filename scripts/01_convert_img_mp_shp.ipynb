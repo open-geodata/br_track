{
 "cells": [
  {
   "cell_type": "markdown",
   "metadata": {},
   "source": [
    "<br>\n",
    "\n",
    "# Introdução\n",
    "\n",
    "Transformando uma base de GPS em base vetorial [tracksource.org.br](http://tracksource.org.br)\n"
   ]
  },
  {
   "cell_type": "code",
   "execution_count": 2,
   "metadata": {},
   "outputs": [],
   "source": [
    "#!pip3 install traquitanas\n"
   ]
  },
  {
   "cell_type": "code",
   "execution_count": 3,
   "metadata": {},
   "outputs": [],
   "source": [
    "import os\n",
    "import shutil\n",
    "import subprocess\n",
    "from subprocess import PIPE, STDOUT, Popen\n",
    "from traquitanas.files import utils\n"
   ]
  },
  {
   "cell_type": "markdown",
   "metadata": {},
   "source": [
    "<br>\n",
    "\n",
    "# Obtem arquivos _.img_\n",
    "\n",
    "Os arquivos com extensão _.img_ estão localizados em uma determinada pasta no meu PC.\n",
    "Com os comandos a seguir, faz-se uma cópia desses arquivos.\n"
   ]
  },
  {
   "cell_type": "code",
   "execution_count": null,
   "metadata": {},
   "outputs": [],
   "source": [
    "URL = 'https://www.tracksource.org.br/ftp/instaladores/TS-Brasil_v2107.exe'\n",
    "URL\n"
   ]
  },
  {
   "cell_type": "markdown",
   "metadata": {},
   "source": [
    "<br>\n",
    "\n",
    "Seleciona os arquivos que tenham extensão .img e tenham 12 caracteres.\n"
   ]
  },
  {
   "cell_type": "markdown",
   "metadata": {},
   "source": [
    "<br>\n",
    "\n",
    "# Copia arquivos _.img_\n"
   ]
  },
  {
   "cell_type": "code",
   "execution_count": null,
   "metadata": {},
   "outputs": [],
   "source": [
    "tks_path = 'C:\\Program Files (x86)\\Tracksource\\TS-Brasil'\n",
    "list_imgs = [i for i in os.listdir(tks_path) if i.endswith('.img')]\n",
    "list_imgs = [i for i in list_imgs if len(i) == 12]\n",
    "\n",
    "print(f'fff {len(list_imgs)}')\n"
   ]
  },
  {
   "cell_type": "code",
   "execution_count": null,
   "metadata": {},
   "outputs": [],
   "source": [
    "# Copia Arquivos .img\n",
    "print(f'Copia arquivos da pasta \"{tks_path}\" para a pasta \"{input}\"')\n",
    "\n",
    "for img in list_imgs:\n",
    "    # print(img)\n",
    "    shutil.copy2(tks_path / img, input)\n"
   ]
  },
  {
   "cell_type": "markdown",
   "metadata": {},
   "source": [
    "<br>\n",
    "\n",
    "# Converte arquivos _.img_ para _.mp_ (polish format)\n",
    "\n",
    "[_stackoverflow_: Executing a vbs file with arguments created by python](https://stackoverflow.com/questions/19112944/executing-a-vbs-file-with-arguments-created-by-python)\n"
   ]
  },
  {
   "cell_type": "code",
   "execution_count": null,
   "metadata": {},
   "outputs": [],
   "source": [
    "# Parâmetros\n",
    "app = os.path.join(os.getcwd(), 'apps', 'convert_img2mp.vbs')\n",
    "inp_dirut = os.path.join(os.getcwd(), 'data', 'img_files')\n",
    "ou_dirput = os.path.join(os.getcwd(), 'data', 'mp_files')\n",
    "log_file = os.path.join(os.getcwd(), 'docs', 'log_img2mp.txt')\n",
    "\n",
    "# Run\n",
    "output = subprocess.run(\n",
    "    ['cscript'input_dir, output_dir, ouput, log_file],\n",
    "    capture_output=True,\n",
    "    text=True\n",
    ")\n",
    "\n",
    "# Results\n",
    "print(output)\n",
    "print('-'*20, '\\n', output.stderr)\n",
    "print('-'*20, '\\n', output.stdout)"
   ]
  },
  {
   "cell_type": "markdown",
   "metadata": {},
   "source": [
    "<br>\n",
    "\n",
    "## Encoding do MP\n"
   ]
  },
  {
   "cell_type": "code",
   "execution_count": null,
   "metadata": {},
   "outputs": [],
   "source": [
    "utils.predict_encoding('data/mp_files/90000074.mp')\n"
   ]
  },
  {
   "cell_type": "markdown",
   "metadata": {},
   "source": [
    "<br>\n",
    "\n",
    "# Convert arquivos _.mp_ para _.shp_\n"
   ]
  },
  {
   "cell_type": "code",
   "execution_count": null,
   "metadata": {},
   "outputs": [],
   "source": [
    "# Path to script\n",
    "# os.chdir(r'y:\\open-geodata\\tracksource')\n",
    "orig_dir = os.getcwd()\n",
    "script = os.path.join(orig_dir, 'apps', 'convert_mp2shp.gms')\n",
    "\n",
    "print(orig_dir)\n",
    "print(script)\n",
    "\n",
    "gm_path = r'c:\\Program Files\\GlobalMapper18_64bit'\n",
    "os.chdir(gm_path)\n",
    "print(os.getcwd())\n",
    "\n",
    "# Avalia se leu o script\n",
    "with open(script) as f:\n",
    "    [print(line) for line in f.readlines()[0:1]]\n",
    "\n",
    "# Command\n",
    "cmd = f'global_mapper.exe \"{script}\"'\n",
    "print(cmd)\n",
    "\n",
    "try:\n",
    "    # Subprocess\n",
    "    output = subprocess.run(cmd, capture_output=True, text=True, shell=True)\n",
    "\n",
    "    # Results\n",
    "    print(output)\n",
    "    print('-' * 20, '\\n', output.stderr)\n",
    "    print('-' * 20, '\\n', output.stdout)\n",
    "\n",
    "except:\n",
    "    # Retorna para Inicial\n",
    "    os.chdir(orig_dir)\n",
    "    print(orig_dir)\n"
   ]
  },
  {
   "cell_type": "code",
   "execution_count": null,
   "metadata": {},
   "outputs": [],
   "source": [
    "utils.predict_encoding('data/shp_files/90000074_lines.shp')\n"
   ]
  },
  {
   "cell_type": "code",
   "execution_count": null,
   "metadata": {},
   "outputs": [],
   "source": []
  }
 ],
 "metadata": {
  "kernelspec": {
   "display_name": "Python 3.10.8 ('pablocarreira-lastest')",
   "language": "python",
   "name": "python3"
  },
  "language_info": {
   "codemirror_mode": {
    "name": "ipython",
    "version": 3
   },
   "file_extension": ".py",
   "mimetype": "text/x-python",
   "name": "python",
   "nbconvert_exporter": "python",
   "pygments_lexer": "ipython3",
   "version": "3.10.8"
  },
  "toc": {
   "base_numbering": 1,
   "nav_menu": {},
   "number_sections": true,
   "sideBar": true,
   "skip_h1_title": false,
   "title_cell": "Table of Contents",
   "title_sidebar": "Contents",
   "toc_cell": false,
   "toc_position": {},
   "toc_section_display": true,
   "toc_window_display": false
  },
  "vscode": {
   "interpreter": {
    "hash": "c2053567621b34e45395a474af86f96fb684d1aeb5d97dc4e3cca6b10d9c7c8b"
   }
  }
 },
 "nbformat": 4,
 "nbformat_minor": 4
}
