{
 "cells": [
  {
   "cell_type": "markdown",
   "metadata": {},
   "source": [
    "<br>\n",
    "\n",
    "# Introdução\n",
    "\n",
    "Transformando uma base de GPS em base vetorial [tracksource.org.br](http://tracksource.org.br)"
   ]
  },
  {
   "cell_type": "code",
   "execution_count": null,
   "metadata": {},
   "outputs": [],
   "source": [
    "import os\n",
    "import shutil\n",
    "import subprocess\n",
    "from subprocess import Popen, PIPE, STDOUT"
   ]
  },
  {
   "cell_type": "markdown",
   "metadata": {},
   "source": [
    "<br>\n",
    "\n",
    "# Obtem arquivos *.img*\n",
    "\n",
    "Os arquivos com extensão *.img* estão localizados em uma determinada pasta no meu PC.\n",
    "Com os comandos a seguir, faz-se uma cópia desses arquivos."
   ]
  },
  {
   "cell_type": "code",
   "execution_count": null,
   "metadata": {},
   "outputs": [],
   "source": [
    "# Obtido em 19.08.2021\n",
    "url = 'https://www.tracksource.org.br/ftp/instaladores/TS-Brasil_v2107.exe'\n",
    "url"
   ]
  },
  {
   "cell_type": "markdown",
   "metadata": {},
   "source": [
    "<br>\n",
    "\n",
    "Seleciona os arquivos que tenham extensão .img e tenham 12 caracteres."
   ]
  },
  {
   "cell_type": "markdown",
   "metadata": {},
   "source": [
    "<br>\n",
    "\n",
    "# Copia arquivos *.img*"
   ]
  },
  {
   "cell_type": "code",
   "execution_count": null,
   "metadata": {},
   "outputs": [],
   "source": [
    "tks = 'C:\\Program Files (x86)\\Tracksource\\TS-Brasil'\n",
    "list_imgs = [i for i in os.listdir(tks) if i.endswith('.img')]\n",
    "list_imgs = [i for i in list_imgs if len(i)==12]\n",
    "len(list_imgs)"
   ]
  },
  {
   "cell_type": "code",
   "execution_count": null,
   "metadata": {},
   "outputs": [],
   "source": [
    "# Copia Arquivos .img\n",
    "print(f'Copia arquivos da pasta \"{tks}\" para a pasta \"{input}\"')\n",
    "\n",
    "for img in list_imgs:\n",
    "    #print(img)\n",
    "    shutil.copy2(os.path.join(tks, img), input)"
   ]
  },
  {
   "cell_type": "markdown",
   "metadata": {},
   "source": [
    "<br>\n",
    "\n",
    "# Converte arquivos *.img* para *.mp* (polish format)\n",
    "\n",
    "[*stackoverflow*: Executing a vbs file with arguments created by python](https://stackoverflow.com/questions/19112944/executing-a-vbs-file-with-arguments-created-by-python)"
   ]
  },
  {
   "cell_type": "code",
   "execution_count": null,
   "metadata": {},
   "outputs": [],
   "source": [
    "# Parâmetros\n",
    "app = os.path.join(os.getcwd(), 'apps', 'convert_img2mp.vbs')\n",
    "inp_dirut = os.path.join(os.getcwd(), 'data', 'img_files')\n",
    "ou_dirput = os.path.join(os.getcwd(), 'data', 'mp_files')\n",
    "log = os.path.join(os.getcwd(), 'docs', 'log_img2mp.txt')\n",
    "\n",
    "# Run\n",
    "output = subprocess.run(['cscript'input_dir, output_dir, ouput, log], capture_output=True, text=True)\n",
    "print(output)\n",
    "print('-'*20, '\\n', output.stderr)\n",
    "print('-'*20, '\\n', output.stdout)"
   ]
  },
  {
   "cell_type": "markdown",
   "metadata": {},
   "source": [
    "<br>\n",
    "\n",
    "## Encoding do MP"
   ]
  },
  {
   "cell_type": "code",
   "execution_count": null,
   "metadata": {},
   "outputs": [],
   "source": [
    "def predict_encoding(file_path, n_lines=30):\n",
    "    \"\"\"\n",
    "    Predict Encoding determines the encoding of a given file, so that when reading the file (via 'Pandas', for example)\n",
    "    characters, accents and symbols are spelled correctly.\n",
    "    :param file_path: Name and path to file\n",
    "    :param n_lines: Number of lines to read to set encoding. Parameter Optional. Default: 30 lines.\n",
    "    :return: Encoding.\n",
    "    \"\"\"\n",
    "    import chardet\n",
    "\n",
    "    # Open the file as binary data\n",
    "    with open(file_path, 'rb') as f:\n",
    "        # Join binary lines for specified number of lines\n",
    "        raw_data = b''.join([f.readline() for line in range(n_lines)])\n",
    "\n",
    "    return chardet.detect(raw_data)['encoding']"
   ]
  },
  {
   "cell_type": "code",
   "execution_count": null,
   "metadata": {},
   "outputs": [],
   "source": [
    "predict_encoding('data/mp_files/90000074.mp')"
   ]
  },
  {
   "cell_type": "markdown",
   "metadata": {},
   "source": [
    "<br>\n",
    "\n",
    "# Convert arquivos *.mp* para *.shp*"
   ]
  },
  {
   "cell_type": "code",
   "execution_count": null,
   "metadata": {},
   "outputs": [],
   "source": [
    "# Path to script\n",
    "#os.chdir(r'y:\\open-geodata\\tracksource')\n",
    "orig_dir = os.getcwd()\n",
    "script = os.path.join(orig_dir, 'apps', 'convert_mp2shp.gms')\n",
    "\n",
    "print(orig_dir)\n",
    "print(script)\n",
    "\n",
    "gm_path = r'c:\\Program Files\\GlobalMapper18_64bit'\n",
    "os.chdir(gm_path)\n",
    "print(os.getcwd())\n",
    "\n",
    "# Avalia se leu o script\n",
    "with open(script) as f:\n",
    "    [print(line) for line in f.readlines()[0:1]]\n",
    "\n",
    "# Command\n",
    "cmd = '{} \"{}\"'.format('global_mapper.exe', script)\n",
    "print(cmd)\n",
    "\n",
    "try:\n",
    "    # Subprocess\n",
    "    output = subprocess.run(cmd, capture_output=True, text=True, shell=True)\n",
    "\n",
    "    # Results\n",
    "    print(output)\n",
    "    print('-'*20, '\\n', output.stderr)\n",
    "    print('-'*20, '\\n', output.stdout)\n",
    "\n",
    "except:\n",
    "    # Retorna para Inicial\n",
    "    os.chdir(orig_dir)\n",
    "    print(orig_dir)"
   ]
  },
  {
   "cell_type": "code",
   "execution_count": null,
   "metadata": {},
   "outputs": [],
   "source": [
    "predict_encoding('data/shp_files/90000074_lines.shp')"
   ]
  },
  {
   "cell_type": "code",
   "execution_count": null,
   "metadata": {},
   "outputs": [],
   "source": []
  }
 ],
 "metadata": {
  "kernelspec": {
   "display_name": "Python 3.9.13 ('pablocarreira-py39')",
   "language": "python",
   "name": "python3"
  },
  "language_info": {
   "codemirror_mode": {
    "name": "ipython",
    "version": 3
   },
   "file_extension": ".py",
   "mimetype": "text/x-python",
   "name": "python",
   "nbconvert_exporter": "python",
   "pygments_lexer": "ipython3",
   "version": "3.9.13"
  },
  "toc": {
   "base_numbering": 1,
   "nav_menu": {},
   "number_sections": true,
   "sideBar": true,
   "skip_h1_title": false,
   "title_cell": "Table of Contents",
   "title_sidebar": "Contents",
   "toc_cell": false,
   "toc_position": {},
   "toc_section_display": true,
   "toc_window_display": false
  },
  "vscode": {
   "interpreter": {
    "hash": "397a8db9a99587ebc9659e575e97c3dbc03b7cdbd9bc181d706cc19eab1087ed"
   }
  }
 },
 "nbformat": 4,
 "nbformat_minor": 4
}
